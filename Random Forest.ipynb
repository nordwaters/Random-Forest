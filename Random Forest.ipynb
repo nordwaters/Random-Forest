{
 "cells": [
  {
   "cell_type": "code",
   "execution_count": 7,
   "metadata": {},
   "outputs": [],
   "source": [
    "import numpy as np\n",
    "import pandas as pd\n",
    "from sklearn.datasets import load_iris\n",
    "from sklearn.model_selection import train_test_split\n",
    "from sklearn.metrics import accuracy_score"
   ]
  },
  {
   "cell_type": "code",
   "execution_count": 8,
   "metadata": {},
   "outputs": [],
   "source": [
    "# Creating class Decision Tree\n",
    "class DecisionTree:\n",
    "    def __init__(self):\n",
    "        self.left = None\n",
    "        self.right = None\n",
    "        self.feature = None\n",
    "        self.threshold = None\n",
    "        self.leaf = False\n",
    "        self.prediction = None\n",
    "\n",
    "    def fit(self, X, y):\n",
    "        if len(np.unique(y)) == 1:\n",
    "            self.leaf = True\n",
    "            self.prediction = y[0]\n",
    "        else:\n",
    "            best_feature, best_threshold = self.find_best_split(X, y)\n",
    "            if best_feature is None or best_threshold is None:\n",
    "                self.leaf = True\n",
    "                self.prediction = stats.mode(y)[0][0]\n",
    "            else:\n",
    "                left_indices = X[:, best_feature] < best_threshold\n",
    "                right_indices = ~left_indices\n",
    "                self.left = DecisionTree()\n",
    "                self.right = DecisionTree()\n",
    "                self.left.fit(X[left_indices], y[left_indices])\n",
    "                self.right.fit(X[right_indices], y[right_indices])\n",
    "                self.feature = best_feature\n",
    "                self.threshold = best_threshold\n",
    "\n",
    "    def find_best_split(self, X, y):\n",
    "        best_feature = None\n",
    "        best_threshold = None\n",
    "        best_gini = 1\n",
    "\n",
    "        for feature in range(X.shape[1]):\n",
    "            thresholds = np.unique(X[:, feature])\n",
    "            for threshold in thresholds:\n",
    "                left_indices = X[:, feature] < threshold\n",
    "                y_left = y[left_indices]\n",
    "                y_right = y[~left_indices]\n",
    "                if len(y_left) == 0 or len(y_right) == 0:\n",
    "                    continue\n",
    "                gini = (len(y_left) / len(y)) * self.gini_impurity(y_left) + \\\n",
    "                       (len(y_right) / len(y)) * self.gini_impurity(y_right)\n",
    "                if gini < best_gini:\n",
    "                    best_feature = feature\n",
    "                    best_threshold = threshold\n",
    "                    best_gini = gini\n",
    "\n",
    "        return best_feature, best_threshold\n",
    "\n",
    "    def predict_one(self, x):\n",
    "        if self.leaf:\n",
    "            return self.prediction\n",
    "        if x[self.feature] < self.threshold:\n",
    "            return self.left.predict_one(x)\n",
    "        else:\n",
    "            return self.right.predict_one(x)\n",
    "\n",
    "    def predict(self, X):\n",
    "        return np.array([self.predict_one(x) for x in X])\n",
    "\n",
    "    @staticmethod\n",
    "    def gini_impurity(y):\n",
    "        _, counts = np.unique(y, return_counts=True)\n",
    "        probabilities = counts / len(y)\n",
    "        return 1 - np.sum(probabilities**2)\n",
    "\n"
   ]
  },
  {
   "cell_type": "code",
   "execution_count": 9,
   "metadata": {},
   "outputs": [],
   "source": [
    "# Creating class Random Forest\n",
    "class RandomForest:\n",
    "    def __init__(self, n_trees, max_depth, n_features):\n",
    "        self.n_trees = n_trees\n",
    "        self.max_depth = max_depth\n",
    "        self.n_features = n_features\n",
    "        self.trees = []\n",
    "\n",
    "    def fit(self, X, y):\n",
    "        n_samples, n_features = X.shape\n",
    "        for i in range(self.n_trees):\n",
    "            tree = DecisionTree()\n",
    "            indices = np.random.choice(n_samples, n_samples, replace=True)\n",
    "            if self.n_features == \"sqrt\":\n",
    "                n_subset = int(np.sqrt(n_features))\n",
    "            else:\n",
    "                n_subset = self.n_features\n",
    "            subset = np.random.choice(n_features, n_subset, replace=False)\n",
    "            tree.fit(X[indices][:, subset], y[indices])\n",
    "            self.trees.append(tree)\n",
    "\n",
    "    def predict(self, X):\n",
    "        predictions = np.array([tree.predict(X) for tree in self.trees])\n",
    "        return stats.mode(predictions)[0][0]"
   ]
  },
  {
   "cell_type": "code",
   "execution_count": 10,
   "metadata": {},
   "outputs": [
    {
     "name": "stdout",
     "output_type": "stream",
     "text": [
      "Accuracy: 0.36666666666666664\n"
     ]
    }
   ],
   "source": [
    "# Load Iris dataset\n",
    "data = load_iris()\n",
    "X = data.data\n",
    "y = data.target\n",
    "\n",
    "# Split the data into train and test sets\n",
    "X_train, X_test, y_train, y_test = train_test_split(X, y, test_size=0.2, random_state=42)\n",
    "\n",
    "# Initialize random forest classifier with 5 trees, maximum depth of 3, and \"sqrt\" number of features\n",
    "rf = RandomForest(n_trees=5, max_depth=3, n_features=\"sqrt\")\n",
    "\n",
    "# Train the random forest classifier on the training data\n",
    "rf.fit(X_train, y_train)\n",
    "\n",
    "# Make predictions on the test data\n",
    "y_pred = rf.predict(X_test)\n",
    "\n",
    "# Calculate accuracy of the predictions\n",
    "accuracy = accuracy_score(y_test, y_pred)\n",
    "print(f\"Accuracy: {accuracy}\")"
   ]
  },
  {
   "cell_type": "code",
   "execution_count": null,
   "metadata": {},
   "outputs": [],
   "source": []
  }
 ],
 "metadata": {
  "kernelspec": {
   "display_name": "Python 3",
   "language": "python",
   "name": "python3"
  },
  "language_info": {
   "codemirror_mode": {
    "name": "ipython",
    "version": 3
   },
   "file_extension": ".py",
   "mimetype": "text/x-python",
   "name": "python",
   "nbconvert_exporter": "python",
   "pygments_lexer": "ipython3",
   "version": "3.10.5"
  },
  "orig_nbformat": 4,
  "vscode": {
   "interpreter": {
    "hash": "26de051ba29f2982a8de78e945f0abaf191376122a1563185a90213a26c5da77"
   }
  }
 },
 "nbformat": 4,
 "nbformat_minor": 2
}
